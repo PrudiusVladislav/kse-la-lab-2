{
 "cells": [
  {
   "cell_type": "code",
   "execution_count": 3,
   "id": "d4b7491d-c99b-45ab-b37d-e69526a59865",
   "metadata": {},
   "outputs": [
    {
     "name": "stdout",
     "output_type": "stream",
     "text": [
      "EigResult(eigenvalues=array([-0.37228132,  5.37228132]), eigenvectors=array([[-0.82456484, -0.41597356],\n",
      "       [ 0.56576746, -0.90937671]]))\n"
     ]
    }
   ],
   "source": [
    "import numpy as np\n",
    "\n",
    "\n",
    "def get_eigenvalues_and_eigenvectors(matrix):\n",
    "    def check_results(eigenvalues, eigenvectors):\n",
    "        for i in range(len(eigenvalues)):\n",
    "            if not np.allclose(np.dot(matrix, eigenvectors[:, i]), eigenvalues[i] * eigenvectors[:, i]):\n",
    "                return False\n",
    "        return True\n",
    "\n",
    "    eigResult = np.linalg.eig(matrix)\n",
    "    if check_results(eigResult.eigenvalues, eigResult.eigenvectors):\n",
    "        return eigResult\n",
    "    else:\n",
    "        return \"something went wrong, the result did not pass the check!\"\n",
    "\n",
    "print(get_eigenvalues_and_eigenvectors([[1, 2], [3, 4]]))"
   ]
  }
 ],
 "metadata": {
  "kernelspec": {
   "display_name": "Python 3 (ipykernel)",
   "language": "python",
   "name": "python3"
  },
  "language_info": {
   "codemirror_mode": {
    "name": "ipython",
    "version": 3
   },
   "file_extension": ".py",
   "mimetype": "text/x-python",
   "name": "python",
   "nbconvert_exporter": "python",
   "pygments_lexer": "ipython3",
   "version": "3.11.5"
  }
 },
 "nbformat": 4,
 "nbformat_minor": 5
}
