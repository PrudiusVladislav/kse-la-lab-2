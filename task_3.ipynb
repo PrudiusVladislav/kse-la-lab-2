{
 "cells": [
  {
   "cell_type": "code",
   "execution_count": 1,
   "id": "8ae0c0f1-0e3e-4049-9ebc-fcbd0195e77a",
   "metadata": {},
   "outputs": [
    {
     "name": "stdout",
     "output_type": "stream",
     "text": [
      "Original Message: Thats task 3!\n",
      "Encrypted Message: [577823.-1.08097730e-10j 578256.-1.22241505e-10j 510559.-1.28089030e-10j\n",
      " 619677.-9.87068085e-11j 528455.-9.11043359e-11j 600571.-1.25512318e-10j\n",
      " 397203.-8.23781877e-11j 577047.-1.16191094e-10j 395947.-9.39264891e-11j\n",
      " 508237.-4.67847615e-11j 429464.-7.58015484e-11j 463508.-7.94036553e-11j\n",
      " 588761.-8.75854357e-11j]\n",
      "Decrypted Message: Thats task 3!\n"
     ]
    }
   ],
   "source": [
    "import numpy as np\n",
    "\n",
    "\n",
    "def encrypt_message(message, key_matrix):\n",
    "    message_vector = np.array([ord(char) for char in message])\n",
    "    eigenvalues, eigenvectors = np.linalg.eig(key_matrix)\n",
    "    diagonalized_key_matrix = np.dot(\n",
    "        np.dot(eigenvectors, np.diag(eigenvalues)), np.linalg.inv(eigenvectors))\n",
    "    encrypted_vector = np.dot(diagonalized_key_matrix, message_vector)\n",
    "    return encrypted_vector\n",
    "\n",
    "\n",
    "def decrypt_message(encrypted_vector, key_matrix):\n",
    "    eigenvalues, eigenvectors = np.linalg.eig(key_matrix)\n",
    "    diagonalized_key_matrix = np.dot(\n",
    "        np.dot(eigenvectors, np.diag(1/eigenvalues)), np.linalg.inv(eigenvectors))\n",
    "    decrypted_vector = np.dot(diagonalized_key_matrix, encrypted_vector)\n",
    "    decrypted_message = ''.join([chr(int(np.round(char.real))) for char in decrypted_vector])\n",
    "    return decrypted_message\n",
    "\n",
    "\n",
    "message = \"Thats task 3!\"\n",
    "key_matrix = np.random.randint(0, 1024, (len(message), len(message)))\n",
    "encrypted_message = encrypt_message(message, key_matrix)\n",
    "decrypted_message = decrypt_message(encrypted_message, key_matrix)\n",
    "print(f\"Original Message: {message}\")\n",
    "print(f\"Encrypted Message: {encrypted_message}\")\n",
    "print(f\"Decrypted Message: {decrypted_message}\")"
   ]
  }
 ],
 "metadata": {
  "kernelspec": {
   "display_name": "Python 3 (ipykernel)",
   "language": "python",
   "name": "python3"
  },
  "language_info": {
   "codemirror_mode": {
    "name": "ipython",
    "version": 3
   },
   "file_extension": ".py",
   "mimetype": "text/x-python",
   "name": "python",
   "nbconvert_exporter": "python",
   "pygments_lexer": "ipython3",
   "version": "3.11.5"
  }
 },
 "nbformat": 4,
 "nbformat_minor": 5
}
